{
 "cells": [
  {
   "cell_type": "markdown",
   "metadata": {},
   "source": [
    "# Model Building"
   ]
  },
  {
   "cell_type": "code",
   "execution_count": 1,
   "metadata": {},
   "outputs": [],
   "source": [
    "import numpy as np \n",
    "import pandas as pd \n",
    "import matplotlib.pyplot as plt\n",
    "import warnings\n",
    "warnings.filterwarnings(\"ignore\")\n"
   ]
  },
  {
   "cell_type": "markdown",
   "metadata": {},
   "source": [
    "## Load data"
   ]
  },
  {
   "cell_type": "code",
   "execution_count": 2,
   "metadata": {},
   "outputs": [
    {
     "data": {
      "text/html": [
       "<div>\n",
       "<style scoped>\n",
       "    .dataframe tbody tr th:only-of-type {\n",
       "        vertical-align: middle;\n",
       "    }\n",
       "\n",
       "    .dataframe tbody tr th {\n",
       "        vertical-align: top;\n",
       "    }\n",
       "\n",
       "    .dataframe thead th {\n",
       "        text-align: right;\n",
       "    }\n",
       "</style>\n",
       "<table border=\"1\" class=\"dataframe\">\n",
       "  <thead>\n",
       "    <tr style=\"text-align: right;\">\n",
       "      <th></th>\n",
       "      <th>GAME_ID</th>\n",
       "      <th>G_home</th>\n",
       "      <th>W_PCT_home</th>\n",
       "      <th>HOME_RECORD_home</th>\n",
       "      <th>ROAD_RECORD_home</th>\n",
       "      <th>W_PCT_prev_home</th>\n",
       "      <th>HOME_RECORD_prev_home</th>\n",
       "      <th>ROAD_RECORD_prev_home</th>\n",
       "      <th>G_away</th>\n",
       "      <th>W_PCT_away</th>\n",
       "      <th>...</th>\n",
       "      <th>WIN_PRCT_away_10g</th>\n",
       "      <th>PTS_away_10g</th>\n",
       "      <th>FG_PCT_away_10g</th>\n",
       "      <th>FT_PCT_away_10g</th>\n",
       "      <th>FG3_PCT_away_10g</th>\n",
       "      <th>AST_away_10g</th>\n",
       "      <th>REB_away_10g</th>\n",
       "      <th>GAME_DATE_EST</th>\n",
       "      <th>SEASON</th>\n",
       "      <th>HOME_TEAM_WINS</th>\n",
       "    </tr>\n",
       "  </thead>\n",
       "  <tbody>\n",
       "    <tr>\n",
       "      <th>0</th>\n",
       "      <td>10500001</td>\n",
       "      <td>82.0</td>\n",
       "      <td>0.549</td>\n",
       "      <td>0.707317</td>\n",
       "      <td>0.390244</td>\n",
       "      <td>0.305</td>\n",
       "      <td>0.414634</td>\n",
       "      <td>0.195122</td>\n",
       "      <td>82.0</td>\n",
       "      <td>0.512</td>\n",
       "      <td>...</td>\n",
       "      <td>0.4</td>\n",
       "      <td>95.8</td>\n",
       "      <td>0.4351</td>\n",
       "      <td>0.6791</td>\n",
       "      <td>0.3258</td>\n",
       "      <td>22.8</td>\n",
       "      <td>42.7</td>\n",
       "      <td>2005-10-10</td>\n",
       "      <td>2005</td>\n",
       "      <td>0</td>\n",
       "    </tr>\n",
       "    <tr>\n",
       "      <th>1</th>\n",
       "      <td>10500002</td>\n",
       "      <td>82.0</td>\n",
       "      <td>0.524</td>\n",
       "      <td>0.609756</td>\n",
       "      <td>0.439024</td>\n",
       "      <td>0.402</td>\n",
       "      <td>0.512195</td>\n",
       "      <td>0.292683</td>\n",
       "      <td>82.0</td>\n",
       "      <td>0.622</td>\n",
       "      <td>...</td>\n",
       "      <td>0.6</td>\n",
       "      <td>101.9</td>\n",
       "      <td>0.4859</td>\n",
       "      <td>0.7998</td>\n",
       "      <td>0.4583</td>\n",
       "      <td>20.5</td>\n",
       "      <td>38.4</td>\n",
       "      <td>2005-10-11</td>\n",
       "      <td>2005</td>\n",
       "      <td>0</td>\n",
       "    </tr>\n",
       "    <tr>\n",
       "      <th>2</th>\n",
       "      <td>10500003</td>\n",
       "      <td>82.0</td>\n",
       "      <td>0.159</td>\n",
       "      <td>0.219512</td>\n",
       "      <td>0.097561</td>\n",
       "      <td>0.341</td>\n",
       "      <td>0.439024</td>\n",
       "      <td>0.243902</td>\n",
       "      <td>82.0</td>\n",
       "      <td>0.439</td>\n",
       "      <td>...</td>\n",
       "      <td>0.2</td>\n",
       "      <td>97.6</td>\n",
       "      <td>0.4624</td>\n",
       "      <td>0.6709</td>\n",
       "      <td>0.3665</td>\n",
       "      <td>20.6</td>\n",
       "      <td>41.8</td>\n",
       "      <td>2005-10-11</td>\n",
       "      <td>2005</td>\n",
       "      <td>0</td>\n",
       "    </tr>\n",
       "    <tr>\n",
       "      <th>3</th>\n",
       "      <td>10500004</td>\n",
       "      <td>82.0</td>\n",
       "      <td>0.659</td>\n",
       "      <td>0.780488</td>\n",
       "      <td>0.536585</td>\n",
       "      <td>0.659</td>\n",
       "      <td>0.756098</td>\n",
       "      <td>0.560976</td>\n",
       "      <td>82.0</td>\n",
       "      <td>0.573</td>\n",
       "      <td>...</td>\n",
       "      <td>0.5</td>\n",
       "      <td>102.1</td>\n",
       "      <td>0.4388</td>\n",
       "      <td>0.7533</td>\n",
       "      <td>0.4495</td>\n",
       "      <td>23.2</td>\n",
       "      <td>43.7</td>\n",
       "      <td>2005-10-11</td>\n",
       "      <td>2005</td>\n",
       "      <td>1</td>\n",
       "    </tr>\n",
       "    <tr>\n",
       "      <th>4</th>\n",
       "      <td>10500005</td>\n",
       "      <td>82.0</td>\n",
       "      <td>0.610</td>\n",
       "      <td>0.731707</td>\n",
       "      <td>0.487805</td>\n",
       "      <td>0.671</td>\n",
       "      <td>0.829268</td>\n",
       "      <td>0.512195</td>\n",
       "      <td>82.0</td>\n",
       "      <td>0.707</td>\n",
       "      <td>...</td>\n",
       "      <td>0.5</td>\n",
       "      <td>106.4</td>\n",
       "      <td>0.4555</td>\n",
       "      <td>0.7801</td>\n",
       "      <td>0.3558</td>\n",
       "      <td>17.6</td>\n",
       "      <td>44.5</td>\n",
       "      <td>2005-10-11</td>\n",
       "      <td>2005</td>\n",
       "      <td>0</td>\n",
       "    </tr>\n",
       "  </tbody>\n",
       "</table>\n",
       "<p>5 rows × 46 columns</p>\n",
       "</div>"
      ],
      "text/plain": [
       "    GAME_ID  G_home  W_PCT_home  HOME_RECORD_home  ROAD_RECORD_home  \\\n",
       "0  10500001    82.0       0.549          0.707317          0.390244   \n",
       "1  10500002    82.0       0.524          0.609756          0.439024   \n",
       "2  10500003    82.0       0.159          0.219512          0.097561   \n",
       "3  10500004    82.0       0.659          0.780488          0.536585   \n",
       "4  10500005    82.0       0.610          0.731707          0.487805   \n",
       "\n",
       "   W_PCT_prev_home  HOME_RECORD_prev_home  ROAD_RECORD_prev_home  G_away  \\\n",
       "0            0.305               0.414634               0.195122    82.0   \n",
       "1            0.402               0.512195               0.292683    82.0   \n",
       "2            0.341               0.439024               0.243902    82.0   \n",
       "3            0.659               0.756098               0.560976    82.0   \n",
       "4            0.671               0.829268               0.512195    82.0   \n",
       "\n",
       "   W_PCT_away  ...  WIN_PRCT_away_10g  PTS_away_10g  FG_PCT_away_10g  \\\n",
       "0       0.512  ...                0.4          95.8           0.4351   \n",
       "1       0.622  ...                0.6         101.9           0.4859   \n",
       "2       0.439  ...                0.2          97.6           0.4624   \n",
       "3       0.573  ...                0.5         102.1           0.4388   \n",
       "4       0.707  ...                0.5         106.4           0.4555   \n",
       "\n",
       "   FT_PCT_away_10g  FG3_PCT_away_10g  AST_away_10g  REB_away_10g  \\\n",
       "0           0.6791            0.3258          22.8          42.7   \n",
       "1           0.7998            0.4583          20.5          38.4   \n",
       "2           0.6709            0.3665          20.6          41.8   \n",
       "3           0.7533            0.4495          23.2          43.7   \n",
       "4           0.7801            0.3558          17.6          44.5   \n",
       "\n",
       "   GAME_DATE_EST  SEASON  HOME_TEAM_WINS  \n",
       "0     2005-10-10    2005               0  \n",
       "1     2005-10-11    2005               0  \n",
       "2     2005-10-11    2005               0  \n",
       "3     2005-10-11    2005               1  \n",
       "4     2005-10-11    2005               0  \n",
       "\n",
       "[5 rows x 46 columns]"
      ]
     },
     "execution_count": 2,
     "metadata": {},
     "output_type": "execute_result"
    }
   ],
   "source": [
    "# Read data\n",
    "df = pd.read_csv('../data/games_formatted.csv')\n",
    "\n",
    "df = df.dropna()\n",
    "df.head()"
   ]
  },
  {
   "cell_type": "code",
   "execution_count": 3,
   "metadata": {},
   "outputs": [
    {
     "data": {
      "text/plain": [
       "GAME_ID                  0\n",
       "G_home                   0\n",
       "W_PCT_home               0\n",
       "HOME_RECORD_home         0\n",
       "ROAD_RECORD_home         0\n",
       "W_PCT_prev_home          0\n",
       "HOME_RECORD_prev_home    0\n",
       "ROAD_RECORD_prev_home    0\n",
       "G_away                   0\n",
       "W_PCT_away               0\n",
       "HOME_RECORD_away         0\n",
       "ROAD_RECORD_away         0\n",
       "W_PCT_prev_away          0\n",
       "HOME_RECORD_prev_away    0\n",
       "ROAD_RECORD_prev_away    0\n",
       "WIN_PRCT_home_3g         0\n",
       "PTS_home_3g              0\n",
       "FG_PCT_home_3g           0\n",
       "FT_PCT_home_3g           0\n",
       "FG3_PCT_home_3g          0\n",
       "AST_home_3g              0\n",
       "REB_home_3g              0\n",
       "WIN_PRCT_away_3g         0\n",
       "PTS_away_3g              0\n",
       "FG_PCT_away_3g           0\n",
       "FT_PCT_away_3g           0\n",
       "FG3_PCT_away_3g          0\n",
       "AST_away_3g              0\n",
       "REB_away_3g              0\n",
       "WIN_PRCT_home_10g        0\n",
       "PTS_home_10g             0\n",
       "FG_PCT_home_10g          0\n",
       "FT_PCT_home_10g          0\n",
       "FG3_PCT_home_10g         0\n",
       "AST_home_10g             0\n",
       "REB_home_10g             0\n",
       "WIN_PRCT_away_10g        0\n",
       "PTS_away_10g             0\n",
       "FG_PCT_away_10g          0\n",
       "FT_PCT_away_10g          0\n",
       "FG3_PCT_away_10g         0\n",
       "AST_away_10g             0\n",
       "REB_away_10g             0\n",
       "GAME_DATE_EST            0\n",
       "SEASON                   0\n",
       "HOME_TEAM_WINS           0\n",
       "dtype: int64"
      ]
     },
     "execution_count": 3,
     "metadata": {},
     "output_type": "execute_result"
    }
   ],
   "source": [
    "df.isnull().sum()\n"
   ]
  },
  {
   "cell_type": "markdown",
   "metadata": {},
   "source": [
    "## Split Train/Test Set"
   ]
  },
  {
   "cell_type": "code",
   "execution_count": 4,
   "metadata": {},
   "outputs": [],
   "source": [
    "feat_cols = [\n",
    "    'G_home', 'W_PCT_home', 'HOME_RECORD_home',\n",
    "    'ROAD_RECORD_home', 'W_PCT_prev_home', 'HOME_RECORD_prev_home',\n",
    "    'ROAD_RECORD_prev_home', 'G_away', 'W_PCT_away', 'HOME_RECORD_away',\n",
    "    'ROAD_RECORD_away', 'W_PCT_prev_away', 'HOME_RECORD_prev_away',\n",
    "    'ROAD_RECORD_prev_away', 'WIN_PRCT_home_3g', 'PTS_home_3g',\n",
    "    'FG_PCT_home_3g', 'FT_PCT_home_3g', 'FG3_PCT_home_3g', 'AST_home_3g',\n",
    "    'REB_home_3g', 'WIN_PRCT_away_3g', 'PTS_away_3g', 'FG_PCT_away_3g',\n",
    "    'FT_PCT_away_3g', 'FG3_PCT_away_3g', 'AST_away_3g', 'REB_away_3g',\n",
    "    'WIN_PRCT_home_10g', 'PTS_home_10g', 'FG_PCT_home_10g',\n",
    "    'FT_PCT_home_10g', 'FG3_PCT_home_10g', 'AST_home_10g', 'REB_home_10g',\n",
    "    'WIN_PRCT_away_10g', 'PTS_away_10g', 'FG_PCT_away_10g',\n",
    "    'FT_PCT_away_10g', 'FG3_PCT_away_10g', 'AST_away_10g', 'REB_away_10g'\n",
    "]\n",
    "target = 'HOME_TEAM_WINS'"
   ]
  },
  {
   "cell_type": "code",
   "execution_count": 5,
   "metadata": {},
   "outputs": [],
   "source": [
    "# Use season 2004 - 2018 as train set while season 2019 as test set\n",
    "train_set = df.loc[(df['SEASON'] >= 2004) & (df['SEASON'] < 2019) ]\n",
    "test_set = df.loc[(df['SEASON'] == 2019)]"
   ]
  },
  {
   "cell_type": "code",
   "execution_count": 6,
   "metadata": {},
   "outputs": [
    {
     "name": "stdout",
     "output_type": "stream",
     "text": [
      "Train set shape:  (19465, 46)\n",
      "Test set shape:  (1241, 46)\n"
     ]
    }
   ],
   "source": [
    "# Check shape\n",
    "print(\"Train set shape: \",train_set.shape)\n",
    "print(\"Test set shape: \",test_set.shape)"
   ]
  },
  {
   "cell_type": "code",
   "execution_count": 7,
   "metadata": {},
   "outputs": [],
   "source": [
    "# Split data into feature and target variables\n",
    "X_train, y_train = train_set[feat_cols], train_set[target]\n",
    "X_test, y_test = test_set[feat_cols], test_set[target]"
   ]
  },
  {
   "cell_type": "code",
   "execution_count": 8,
   "metadata": {},
   "outputs": [
    {
     "data": {
      "text/plain": [
       "1    12900\n",
       "0     9012\n",
       "Name: HOME_TEAM_WINS, dtype: int64"
      ]
     },
     "execution_count": 8,
     "metadata": {},
     "output_type": "execute_result"
    }
   ],
   "source": [
    "df[target].value_counts()"
   ]
  },
  {
   "cell_type": "markdown",
   "metadata": {},
   "source": [
    "## Model choices\n",
    "1. Logistic Regression\n",
    "2. K-Nearest Neighbors\n",
    "3. RandomForest\n",
    "4. XGBoost\n"
   ]
  },
  {
   "cell_type": "code",
   "execution_count": 9,
   "metadata": {},
   "outputs": [],
   "source": [
    "## Models\n",
    "from sklearn.linear_model import LogisticRegression\n",
    "from sklearn.neighbors import KNeighborsClassifier\n",
    "from sklearn.ensemble import RandomForestClassifier\n",
    "from xgboost import XGBClassifier\n",
    "\n",
    "## Model evaluators\n",
    "from sklearn.model_selection import train_test_split, cross_val_score\n",
    "from sklearn.model_selection import RandomizedSearchCV, GridSearchCV\n",
    "from sklearn.metrics import confusion_matrix, classification_report\n",
    "from sklearn.metrics import precision_score, recall_score, f1_score\n",
    "from sklearn.metrics import plot_roc_curve\n",
    "from sklearn.metrics import roc_auc_score\n",
    "from sklearn.preprocessing import MinMaxScaler\n",
    "from sklearn.preprocessing import StandardScaler\n",
    "\n"
   ]
  },
  {
   "cell_type": "code",
   "execution_count": 10,
   "metadata": {},
   "outputs": [],
   "source": [
    "#scale data using standard scaling\n",
    "standard_scaler = StandardScaler()\n",
    "X_train_std_scaled = standard_scaler.fit_transform(X_train)\n",
    "X_test_std_scaled = standard_scaler.transform(X_test)\n",
    "\n",
    "#scale data using minmax scaling\n",
    "min_max_scaler = MinMaxScaler()\n",
    "X_train_scaled = min_max_scaler.fit_transform(X_train)\n",
    "X_test_scaled = min_max_scaler.transform(X_test)\n"
   ]
  },
  {
   "cell_type": "markdown",
   "metadata": {},
   "source": [
    "## Train model"
   ]
  },
  {
   "cell_type": "code",
   "execution_count": 11,
   "metadata": {},
   "outputs": [],
   "source": [
    "\n",
    "\n",
    "# Put models in a dictionary\n",
    "models = {\"KNN\": KNeighborsClassifier(),\n",
    "          \"Logistic Regression\": LogisticRegression(), \n",
    "          \"Random Forest\": RandomForestClassifier(),\n",
    "          \"XGBoost\": XGBClassifier(verbosity = 0)\n",
    "         }\n",
    "\n",
    "# Create function to fit and score models\n",
    "def evaluate(models, X_train, X_test, y_train, y_test):\n",
    "    \"\"\"\n",
    "    Fits and evaluates given machine learning models.\n",
    "    models : a dict of different Scikit-Learn machine learning models\n",
    "    X_train : training data\n",
    "    X_test : testing data\n",
    "    y_train : labels assosciated with training data\n",
    "    y_test : labels assosciated with test data\n",
    "    \"\"\"\n",
    "    # Random seed for reproducible results\n",
    "    np.random.seed(42)\n",
    "    # Make a list to keep model scores\n",
    "    model_scores = {}\n",
    "    # Loop through models\n",
    "    for name, model in models.items():\n",
    "        if(name == \"Logistic Regression\"):\n",
    "            X = X_train_std_scaled\n",
    "        elif(name == \"KNN\"):\n",
    "            X = X_train_scaled\n",
    "        else:\n",
    "            X = X_train\n",
    "            \n",
    "        # Evaluate the model and append its score to model_scores\n",
    "        model_scores[name] = np.mean(cross_val_score(model, X, y_train, scoring=\"roc_auc\", cv= 5))\n",
    "    return model_scores"
   ]
  },
  {
   "cell_type": "code",
   "execution_count": 12,
   "metadata": {},
   "outputs": [
    {
     "data": {
      "text/plain": [
       "{'KNN': 0.6130078536682845,\n",
       " 'Logistic Regression': 0.6968374545245506,\n",
       " 'Random Forest': 0.682163385864492,\n",
       " 'XGBoost': 0.652890144453843}"
      ]
     },
     "execution_count": 12,
     "metadata": {},
     "output_type": "execute_result"
    }
   ],
   "source": [
    "model_scores = evaluate(models=models,\n",
    "                             X_train=X_train,\n",
    "                             X_test=X_test,\n",
    "                             y_train=y_train,\n",
    "                             y_test=y_test)\n",
    "model_scores"
   ]
  },
  {
   "cell_type": "markdown",
   "metadata": {},
   "source": [
    "## Baseline Model Cross validation score Comparison"
   ]
  },
  {
   "cell_type": "code",
   "execution_count": 13,
   "metadata": {
    "scrolled": true
   },
   "outputs": [
    {
     "data": {
      "image/png": "[encoded data removed]",
      "text/plain": [
       "<Figure size 432x288 with 1 Axes>"
      ]
     },
     "metadata": {
      "needs_background": "light"
     },
     "output_type": "display_data"
    }
   ],
   "source": [
    "model_compare = pd.DataFrame(model_scores, index=['roc_auc'])\n",
    "model_compare.T.plot.bar();"
   ]
  },
  {
   "cell_type": "markdown",
   "metadata": {},
   "source": [
    "## Hyperparameter Tuning"
   ]
  },
  {
   "cell_type": "code",
   "execution_count": 14,
   "metadata": {},
   "outputs": [
    {
     "name": "stdout",
     "output_type": "stream",
     "text": [
      "              precision    recall  f1-score   support\n",
      "\n",
      "           0       0.54      0.42      0.48       575\n",
      "           1       0.58      0.70      0.63       666\n",
      "\n",
      "    accuracy                           0.57      1241\n",
      "   macro avg       0.56      0.56      0.55      1241\n",
      "weighted avg       0.56      0.57      0.56      1241\n",
      "\n",
      "ROC score: 0.5589019454236845\n"
     ]
    }
   ],
   "source": [
    "# KNN\n",
    "\n",
    "#Create KNN Object.\n",
    "knn = KNeighborsClassifier()\n",
    "#Training the model.\n",
    "knn.fit(X_train_scaled, y_train)\n",
    "#Predict test data set.\n",
    "y_pred = knn.predict(X_test_scaled)\n",
    "#Checking performance our model with classification report.\n",
    "print(classification_report(y_test, y_pred))\n",
    "#Checking performance our model with ROC Score.\n",
    "print(\"ROC score:\",roc_auc_score(y_test, y_pred))"
   ]
  },
  {
   "cell_type": "code",
   "execution_count": 15,
   "metadata": {},
   "outputs": [
    {
     "name": "stdout",
     "output_type": "stream",
     "text": [
      "Best leaf_size: 1\n",
      "Best p: 1\n",
      "Best n_neighbors: 14\n",
      "              precision    recall  f1-score   support\n",
      "\n",
      "           0       0.59      0.52      0.55       575\n",
      "           1       0.62      0.69      0.65       666\n",
      "\n",
      "    accuracy                           0.61      1241\n",
      "   macro avg       0.61      0.60      0.60      1241\n",
      "weighted avg       0.61      0.61      0.61      1241\n",
      "\n",
      "ROC score: 0.602855464159812\n"
     ]
    }
   ],
   "source": [
    "#List Hyperparameters that we want to tune.\n",
    "leaf_size = list(range(1,5))\n",
    "n_neighbors = list(range(1,15))\n",
    "p=[1,2]\n",
    "\n",
    "\n",
    "#Convert to dictionary\n",
    "hyperparameters = dict(leaf_size=leaf_size, n_neighbors=n_neighbors, p=p)\n",
    "\n",
    "#Create new KNN object\n",
    "knn_2 = KNeighborsClassifier()\n",
    "#Use GridSearch\n",
    "clf = GridSearchCV(knn_2, hyperparameters, scoring='roc_auc', cv=5)\n",
    "#Fit the model\n",
    "best_knn_model = clf.fit(X_train_scaled,y_train)\n",
    "y_pred = best_knn_model.predict(X_test_scaled)\n",
    "\n",
    "#Print The value of best Hyperparameters\n",
    "print('Best leaf_size:', best_knn_model.best_estimator_.get_params()['leaf_size'])\n",
    "print('Best p:', best_knn_model.best_estimator_.get_params()['p'])\n",
    "print('Best n_neighbors:', best_knn_model.best_estimator_.get_params()['n_neighbors'])\n",
    "#Checking performance our model with classification report.\n",
    "print(classification_report(y_test, y_pred))\n",
    "#Checking performance our model with ROC Score.\n",
    "print(\"ROC score:\",roc_auc_score(y_test, y_pred))"
   ]
  },
  {
   "cell_type": "code",
   "execution_count": 16,
   "metadata": {},
   "outputs": [
    {
     "name": "stdout",
     "output_type": "stream",
     "text": [
      "Best params {'C': 0.1}\n",
      "              precision    recall  f1-score   support\n",
      "\n",
      "           0       0.67      0.42      0.52       575\n",
      "           1       0.62      0.82      0.71       666\n",
      "\n",
      "    accuracy                           0.64      1241\n",
      "   macro avg       0.65      0.62      0.62      1241\n",
      "weighted avg       0.65      0.64      0.62      1241\n",
      "\n",
      "ROC score: 0.6235853244548897\n"
     ]
    }
   ],
   "source": [
    "# Logistic Regression\n",
    "C = [0.1,1,10,100]\n",
    "log_reg_params_grid = dict(C=C)\n",
    "\n",
    "log_reg = LogisticRegression()\n",
    "\n",
    "log_reg_clf = GridSearchCV(log_reg, log_reg_params_grid, scoring='roc_auc', cv=5)\n",
    "best_log_reg = log_reg_clf.fit(X_train_std_scaled,y_train)\n",
    "y_pred_log_reg = best_log_reg.predict(X_test_std_scaled)\n",
    "\n",
    "print('Best params', best_log_reg.best_params_)\n",
    "#Checking performance our model with classification report.\n",
    "print(classification_report(y_test, y_pred_log_reg))\n",
    "#Checking performance our model with ROC Score.\n",
    "print(\"ROC score:\",roc_auc_score(y_test, y_pred_log_reg))"
   ]
  },
  {
   "cell_type": "code",
   "execution_count": null,
   "metadata": {},
   "outputs": [],
   "source": [
    "# Random Forest \n",
    "n_estimators = [100, 300, 500, 800]\n",
    "max_depth = [5, 8, 15, 25]\n",
    "min_samples_split = [2, 5, 10, 15]\n",
    "\n",
    "rf_params_grid = dict(n_estimators = n_estimators, max_depth = max_depth,  \n",
    "              min_samples_split = min_samples_split)\n",
    "\n",
    "rf = RandomForestClassifier(random_state=20)\n",
    "rf_clf = GridSearchCV(rf, rf_params_grid, scoring='roc_auc', cv = 5)\n",
    "best_rf = rf_clf.fit(X_train, y_train)\n",
    "y_pred_rf = best_rf.predict(X_test)\n",
    "\n",
    "print('Best params', best_rf.best_params_)\n",
    "#Checking performance our model with classification report.\n",
    "print(classification_report(y_test, y_pred_rf))\n",
    "#Checking performance our model with ROC Score.\n",
    "print(\"ROC score:\",roc_auc_score(y_test, y_pred_rf))"
   ]
  },
  {
   "cell_type": "code",
   "execution_count": null,
   "metadata": {},
   "outputs": [],
   "source": [
    "# XGBoost\n",
    "xgbr_params_grid = { 'max_depth': [3,6,10],\n",
    "           'learning_rate': [0.01, 0.05, 0.1],\n",
    "           'n_estimators': [100, 500, 1000],\n",
    "           'colsample_bytree': [0.3, 0.7]}\n",
    "\n",
    "xgbr = XGBClassifier(seed = 20, verbosity = 0 )\n",
    "\n",
    "xgbr_clf = GridSearchCV(xgbr, xgbr_params_grid, scoring='roc_auc', cv = 5)\n",
    "best_xgbr = xgbr_clf.fit(X_train, y_train)\n",
    "y_pred_xgbr = best_xgbr.predict(X_test)\n",
    "\n",
    "print(\"Best parameters:\", best_xgbr.best_params_)\n",
    "#Checking performance our model with classification report.\n",
    "print(classification_report(y_test, y_pred_xgbr))\n",
    "#Checking performance our model with ROC Score.\n",
    "print(\"ROC score:\",roc_auc_score(y_test, y_pred_xgbr))"
   ]
  },
  {
   "cell_type": "code",
   "execution_count": null,
   "metadata": {},
   "outputs": [],
   "source": [
    "# Evaluate All Tuned Models\n",
    "best_models = {\"KNN\": KNeighborsClassifier(leaf_size=1, n_neighbors=13, p=1),\n",
    "          \"Logistic Regression\": LogisticRegression(C=10), \n",
    "          \"Random Forest\": RandomForestClassifier(max_depth= 8, min_samples_split= 10, n_estimators= 300),\n",
    "          \"XGBoost\": XGBClassifier(colsample_bytree=0.3, learning_rate= 0.01, max_depth= 3, n_estimators= 500, \n",
    "                                   verbosity = 0)\n",
    "         }\n",
    "\n",
    "best_model_scores = evaluate(models=best_models,\n",
    "                             X_train=X_train,\n",
    "                             X_test=X_test,\n",
    "                             y_train=y_train,\n",
    "                             y_test=y_test)\n",
    "best_model_scores"
   ]
  },
  {
   "cell_type": "code",
   "execution_count": null,
   "metadata": {},
   "outputs": [],
   "source": [
    "best_model_compare = pd.DataFrame(best_model_scores, index=['roc_auc'])\n",
    "best_model_compare.T.plot.bar();"
   ]
  },
  {
   "cell_type": "code",
   "execution_count": null,
   "metadata": {},
   "outputs": [],
   "source": [
    "# Conclusion1: We will use Logistic Regression as our final model\n",
    "trained_model = LogisticRegression(C=10).fit(X_train_std_scaled,y_train)"
   ]
  },
  {
   "cell_type": "code",
   "execution_count": null,
   "metadata": {},
   "outputs": [],
   "source": [
    "y_pred = trained_model.predict(X_test_std_scaled)\n",
    "#Checking performance our model with classification report.\n",
    "print(classification_report(y_test, y_pred))\n",
    "#Checking performance our model with ROC Score.\n",
    "print(\"ROC score:\",roc_auc_score(y_test, y_pred))"
   ]
  },
  {
   "cell_type": "code",
   "execution_count": null,
   "metadata": {},
   "outputs": [],
   "source": [
    "# Conclusion2: When generating prediction using test set, the ROC score of Logistic Regression is 0.6235853244548897"
   ]
  },
  {
   "cell_type": "markdown",
   "metadata": {},
   "source": [
    "## Save Model"
   ]
  },
  {
   "cell_type": "code",
   "execution_count": null,
   "metadata": {},
   "outputs": [],
   "source": [
    "import joblib\n",
    "joblib.dump(trained_model,'model.joblib')\n",
    "joblib.dump(standard_scaler,'scaler.joblib')\n"
   ]
  }
 ],
 "metadata": {
  "kernelspec": {
   "display_name": "Python [conda env:ds] *",
   "language": "python",
   "name": "conda-env-ds-py"
  },
  "language_info": {
   "codemirror_mode": {
    "name": "ipython",
    "version": 3
   },
   "file_extension": ".py",
   "mimetype": "text/x-python",
   "name": "python",
   "nbconvert_exporter": "python",
   "pygments_lexer": "ipython3",
   "version": "3.9.7"
  }
 },
 "nbformat": 4,
 "nbformat_minor": 4
}
